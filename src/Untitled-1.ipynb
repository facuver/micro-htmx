{
 "cells": [
  {
   "cell_type": "code",
   "execution_count": null,
   "metadata": {},
   "outputs": [],
   "source": [
    "from  html_builder import *\n",
    "import pages\n",
    "import importlib\n",
    "importlib.reload(pages)"
   ]
  },
  {
   "cell_type": "code",
   "execution_count": 102,
   "metadata": {},
   "outputs": [],
   "source": [
    "from typing import Any\n",
    "\n",
    "\n",
    "class Element:\n",
    "    def __init__(self,name,attrs,childs) -> None:\n",
    "        self.name = name\n",
    "        self.attrs = attrs\n",
    "        self.childs = childs\n",
    "\n",
    "    def __call__(self, *attrs) -> Any:\n",
    "        self.attrs = attrs\n",
    "        return self\n",
    "\n",
    "    def __getitem__(self,*keys):\n",
    "        return f\"<{self.name} {\" \".join(self.attrs)}>{\",\".join(*keys)}</{self.name}>\""
   ]
  },
  {
   "cell_type": "code",
   "execution_count": 103,
   "metadata": {},
   "outputs": [],
   "source": [
    "html = Element(\"html\",{},())"
   ]
  },
  {
   "cell_type": "code",
   "execution_count": 105,
   "metadata": {},
   "outputs": [
    {
     "data": {
      "text/plain": [
       "'<html sds>helo,no</html>'"
      ]
     },
     "execution_count": 105,
     "metadata": {},
     "output_type": "execute_result"
    }
   ],
   "source": [
    "html(\"sds\")[\"helo\",\"no\"]"
   ]
  }
 ],
 "metadata": {
  "kernelspec": {
   "display_name": ".venv",
   "language": "python",
   "name": "python3"
  },
  "language_info": {
   "codemirror_mode": {
    "name": "ipython",
    "version": 3
   },
   "file_extension": ".py",
   "mimetype": "text/x-python",
   "name": "python",
   "nbconvert_exporter": "python",
   "pygments_lexer": "ipython3",
   "version": "3.12.3"
  }
 },
 "nbformat": 4,
 "nbformat_minor": 2
}
