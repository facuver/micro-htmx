{
 "cells": [
  {
   "cell_type": "code",
   "execution_count": 2,
   "metadata": {},
   "outputs": [],
   "source": [
    "from base_elemets import Element,Div"
   ]
  },
  {
   "cell_type": "code",
   "execution_count": 13,
   "metadata": {},
   "outputs": [
    {
     "name": "stdout",
     "output_type": "stream",
     "text": [
      "<div ><p >Count: 0</p><p >Double Count: 0</p><button onclick=\"increment()\">Increment</button></div>\n"
     ]
    }
   ],
   "source": [
    "class Signal:\n",
    "    def __init__(self, initial_value):\n",
    "        self._value = initial_value\n",
    "        self._listeners = []\n",
    "\n",
    "    def get(self):\n",
    "        return self._value\n",
    "\n",
    "    def set(self, new_value):\n",
    "        if new_value != self._value:\n",
    "            self._value = new_value\n",
    "            for listener in self._listeners:\n",
    "                listener(new_value)\n",
    "\n",
    "    def subscribe(self, listener):\n",
    "        self._listeners.append(listener)\n",
    "\n",
    "def create_signal(initial_value):\n",
    "    signal = Signal(initial_value)\n",
    "    def getter():\n",
    "        return signal.get()\n",
    "    def setter(new_value):\n",
    "        signal.set(new_value)\n",
    "    return getter, setter\n",
    "\n",
    "def create_effect(fn):\n",
    "    fn()\n",
    "    return fn\n",
    "\n",
    "def create_memo(fn):\n",
    "    signal = Signal(fn())\n",
    "    def update():\n",
    "        new_value = fn()\n",
    "        signal.set(new_value)\n",
    "    create_effect(update)\n",
    "    return signal.get\n",
    "\n",
    "class Component:\n",
    "    def __init__(self):\n",
    "        self.html_changed = Signal(None)\n",
    "\n",
    "    def render(self):\n",
    "        pass\n",
    "\n",
    "def h(tag, props=None, *children):\n",
    "    props = props or {}\n",
    "    attrs = ' '.join(f'{k}=\"{v}\"' for k, v in props.items())\n",
    "    child_html = ''.join(str(child) for child in children)\n",
    "    return f\"<{tag} {attrs}>{child_html}</{tag}>\"\n",
    "\n",
    "# Example usage\n",
    "class Counter(Component):\n",
    "    def __init__(self):\n",
    "        super().__init__()\n",
    "        self.count, self.set_count = create_signal(0)\n",
    "        \n",
    "        self.double_count = create_memo(lambda: self.count() * 2)\n",
    "        \n",
    "        create_effect(self._update_html)\n",
    "\n",
    "    def increment(self):\n",
    "        self.set_count(self.count() + 1)\n",
    "\n",
    "    def _update_html(self):\n",
    "        self.html_changed.set(self.render())\n",
    "\n",
    "    def render(self):\n",
    "        return h('div', {},\n",
    "            h('p', {}, f\"Count: {self.count()}\"),\n",
    "            h('p', {}, f\"Double Count: {self.double_count()}\"),\n",
    "            h('button', {'onclick': 'increment()'}, \"Increment\")\n",
    "        )\n",
    "\n",
    "# Usage\n",
    "counter = Counter()\n",
    "\n",
    "def update_html(new_html):\n",
    "    print(\"HTML updated:\")\n",
    "    print(new_html)\n",
    "\n",
    "counter.html_changed.subscribe(update_html)\n",
    "\n",
    "# Initial render\n",
    "print(counter.render())\n",
    "\n",
    "# Simulate a button click\n",
    "counter.increment()"
   ]
  },
  {
   "cell_type": "code",
   "execution_count": 16,
   "metadata": {},
   "outputs": [
    {
     "data": {
      "text/plain": [
       "1"
      ]
     },
     "execution_count": 16,
     "metadata": {},
     "output_type": "execute_result"
    }
   ],
   "source": [
    "counter.count()\n",
    "\n"
   ]
  },
  {
   "cell_type": "code",
   "execution_count": 4,
   "metadata": {},
   "outputs": [],
   "source": [
    "set_a, get_a = Signal(10)"
   ]
  },
  {
   "cell_type": "code",
   "execution_count": 8,
   "metadata": {},
   "outputs": [
    {
     "name": "stdout",
     "output_type": "stream",
     "text": [
      "getted\n"
     ]
    },
    {
     "data": {
      "text/plain": [
       "10"
      ]
     },
     "execution_count": 8,
     "metadata": {},
     "output_type": "execute_result"
    }
   ],
   "source": [
    "get_a()\n"
   ]
  },
  {
   "cell_type": "code",
   "execution_count": 102,
   "metadata": {},
   "outputs": [
    {
     "name": "stdout",
     "output_type": "stream",
     "text": [
      "<div 0\n",
      "> 4\n",
      "h 5\n",
      "e 6\n",
      "l 0\n",
      "l 1\n",
      "o 2\n",
      "</div> 3\n"
     ]
    },
    {
     "data": {
      "text/plain": [
       "['<div>h', 'llo', '']"
      ]
     },
     "execution_count": 102,
     "metadata": {},
     "output_type": "execute_result"
    }
   ],
   "source": [
    "list(chunk(Div(\"hello\"),6))"
   ]
  }
 ],
 "metadata": {
  "kernelspec": {
   "display_name": ".venv",
   "language": "python",
   "name": "python3"
  },
  "language_info": {
   "codemirror_mode": {
    "name": "ipython",
    "version": 3
   },
   "file_extension": ".py",
   "mimetype": "text/x-python",
   "name": "python",
   "nbconvert_exporter": "python",
   "pygments_lexer": "ipython3",
   "version": "3.12.3"
  }
 },
 "nbformat": 4,
 "nbformat_minor": 2
}
