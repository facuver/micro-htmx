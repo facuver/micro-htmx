{
 "cells": [
  {
   "cell_type": "code",
   "execution_count": 34,
   "metadata": {},
   "outputs": [
    {
     "name": "stdout",
     "output_type": "stream",
     "text": [
      "Initial state:\n"
     ]
    },
    {
     "ename": "AttributeError",
     "evalue": "'Counter' object has no attribute 'generate_html'",
     "output_type": "error",
     "traceback": [
      "\u001b[1;31m---------------------------------------------------------------------------\u001b[0m",
      "\u001b[1;31mAttributeError\u001b[0m                            Traceback (most recent call last)",
      "Cell \u001b[1;32mIn[34], line 48\u001b[0m\n\u001b[0;32m     45\u001b[0m counter2 \u001b[38;5;241m=\u001b[39m Counter()\n\u001b[0;32m     47\u001b[0m \u001b[38;5;28mprint\u001b[39m(\u001b[38;5;124m\"\u001b[39m\u001b[38;5;124mInitial state:\u001b[39m\u001b[38;5;124m\"\u001b[39m)\n\u001b[1;32m---> 48\u001b[0m \u001b[38;5;28mprint\u001b[39m(\u001b[38;5;124m\"\u001b[39m\u001b[38;5;124mCounter 1:\u001b[39m\u001b[38;5;124m\"\u001b[39m, \u001b[43mcounter1\u001b[49m\u001b[38;5;241;43m.\u001b[39;49m\u001b[43mgenerate_html\u001b[49m())\n\u001b[0;32m     49\u001b[0m \u001b[38;5;28mprint\u001b[39m(\u001b[38;5;124m\"\u001b[39m\u001b[38;5;124mCounter 2:\u001b[39m\u001b[38;5;124m\"\u001b[39m, counter2\u001b[38;5;241m.\u001b[39mgenerate_html())\n\u001b[0;32m     51\u001b[0m counter1\u001b[38;5;241m.\u001b[39mincrement()\n",
      "\u001b[1;31mAttributeError\u001b[0m: 'Counter' object has no attribute 'generate_html'"
     ]
    }
   ],
   "source": [
    "class ReactiveProperty:\n",
    "    def __init__(self, initial_value=None):\n",
    "        self.initial_value = initial_value\n",
    "\n",
    "    def __get__(self, obj, objtype=None):\n",
    "        if obj is None:\n",
    "            return self\n",
    "        if not hasattr(obj, '_reactive_values'):\n",
    "            obj._reactive_values = {}\n",
    "        if self not in obj._reactive_values:\n",
    "            obj._reactive_values[self] = self.initial_value\n",
    "        return obj._reactive_values[self]\n",
    "\n",
    "    def __set__(self, obj, value):\n",
    "        if not hasattr(obj, '_reactive_values'):\n",
    "            obj._reactive_values = {}\n",
    "        obj._reactive_values[self] = value\n",
    "\n",
    "        if obj.dispatch_fn:\n",
    "            type(obj).dispatch_fn(obj.render())\n",
    "\n",
    "class ReactiveComponent:\n",
    "    dispatch_fn = None\n",
    "    def render(self):\n",
    "        raise NotImplementedError(\"Render method must be implemented by child classes\")\n",
    "\n",
    "   \n",
    "class Counter(ReactiveComponent):\n",
    "    \n",
    "\n",
    "    count = ReactiveProperty(0)\n",
    "\n",
    "    def increment(self):\n",
    "        self.count += 1\n",
    "\n",
    "    def render(self):\n",
    "        return f\"Count: {self.count}\"\n",
    "\n",
    "\n",
    "# Usage\n",
    "Counter.dispatch_fn = print\n",
    "counter1 = Counter()\n",
    "counter2 = Counter()\n",
    "\n",
    "print(\"Initial state:\")\n",
    "print(\"Counter 1:\", counter1.generate_html())\n",
    "print(\"Counter 2:\", counter2.generate_html())\n",
    "\n",
    "counter1.increment()\n",
    "counter2.increment()\n",
    "counter2.increment()\n",
    "\n",
    "print(\"\\nAfter increments:\")\n",
    "print(\"Counter 1:\", counter1.generate_html())\n",
    "print(\"Counter 2:\", counter2.generate_html())\n"
   ]
  },
  {
   "cell_type": "code",
   "execution_count": 24,
   "metadata": {},
   "outputs": [
    {
     "name": "stdout",
     "output_type": "stream",
     "text": [
      "Counter 1 changed to: 2\n",
      "Counter 2 changed to: 3\n",
      "Counter 2 changed to: 4\n"
     ]
    }
   ],
   "source": []
  },
  {
   "cell_type": "code",
   "execution_count": null,
   "metadata": {},
   "outputs": [],
   "source": [
    "\n",
    "# Adding watchers\n",
    "Counter.count.watch(counter1, lambda value: print(f\"Counter 1 changed to: {value}\"))\n",
    "Counter.count.watch(counter2, lambda value: print(f\"Counter 2 changed to: {value}\"))\n",
    "\n",
    "counter1.increment()\n"
   ]
  },
  {
   "cell_type": "code",
   "execution_count": 25,
   "metadata": {},
   "outputs": [
    {
     "name": "stdout",
     "output_type": "stream",
     "text": [
      "Counter 2 changed to: 5\n",
      "Counter 2 changed to: 6\n"
     ]
    }
   ],
   "source": [
    "counter2.increment()\n",
    "counter2.increment()"
   ]
  },
  {
   "cell_type": "code",
   "execution_count": 14,
   "metadata": {},
   "outputs": [
    {
     "ename": "AttributeError",
     "evalue": "'int' object has no attribute 'watch'",
     "output_type": "error",
     "traceback": [
      "\u001b[1;31m---------------------------------------------------------------------------\u001b[0m",
      "\u001b[1;31mAttributeError\u001b[0m                            Traceback (most recent call last)",
      "Cell \u001b[1;32mIn[14], line 2\u001b[0m\n\u001b[0;32m      1\u001b[0m \u001b[38;5;66;03m# Adding watchers\u001b[39;00m\n\u001b[1;32m----> 2\u001b[0m \u001b[43mcounter1\u001b[49m\u001b[38;5;241;43m.\u001b[39;49m\u001b[43mcount\u001b[49m\u001b[38;5;241;43m.\u001b[39;49m\u001b[43mwatch\u001b[49m(counter1, \u001b[38;5;28;01mlambda\u001b[39;00m value: \u001b[38;5;28mprint\u001b[39m(\u001b[38;5;124mf\u001b[39m\u001b[38;5;124m\"\u001b[39m\u001b[38;5;124mCounter 1 changed to: \u001b[39m\u001b[38;5;132;01m{\u001b[39;00mvalue\u001b[38;5;132;01m}\u001b[39;00m\u001b[38;5;124m\"\u001b[39m))\n\u001b[0;32m      3\u001b[0m counter2\u001b[38;5;241m.\u001b[39mcount\u001b[38;5;241m.\u001b[39mwatch(counter2, \u001b[38;5;28;01mlambda\u001b[39;00m value: \u001b[38;5;28mprint\u001b[39m(\u001b[38;5;124mf\u001b[39m\u001b[38;5;124m\"\u001b[39m\u001b[38;5;124mCounter 2 changed to: \u001b[39m\u001b[38;5;132;01m{\u001b[39;00mvalue\u001b[38;5;132;01m}\u001b[39;00m\u001b[38;5;124m\"\u001b[39m))\n\u001b[0;32m      5\u001b[0m counter1\u001b[38;5;241m.\u001b[39mincrement()\n",
      "\u001b[1;31mAttributeError\u001b[0m: 'int' object has no attribute 'watch'"
     ]
    }
   ],
   "source": [
    "\n",
    "# Adding watchers\n",
    "counter1.count.watch(counter1, lambda value: print(f\"Counter 1 changed to: {value}\"))\n",
    "counter2.count.watch(counter2, lambda value: print(f\"Counter 2 changed to: {value}\"))\n",
    "\n",
    "counter1.increment()\n",
    "counter2.increment()"
   ]
  },
  {
   "cell_type": "code",
   "execution_count": null,
   "metadata": {},
   "outputs": [],
   "source": []
  },
  {
   "cell_type": "code",
   "execution_count": 12,
   "metadata": {},
   "outputs": [
    {
     "data": {
      "text/plain": [
       "1"
      ]
     },
     "execution_count": 12,
     "metadata": {},
     "output_type": "execute_result"
    }
   ],
   "source": [
    "counter1.count"
   ]
  }
 ],
 "metadata": {
  "kernelspec": {
   "display_name": ".venv",
   "language": "python",
   "name": "python3"
  },
  "language_info": {
   "codemirror_mode": {
    "name": "ipython",
    "version": 3
   },
   "file_extension": ".py",
   "mimetype": "text/x-python",
   "name": "python",
   "nbconvert_exporter": "python",
   "pygments_lexer": "ipython3",
   "version": "3.12.3"
  }
 },
 "nbformat": 4,
 "nbformat_minor": 2
}
