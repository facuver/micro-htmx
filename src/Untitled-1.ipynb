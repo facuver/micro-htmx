{
 "cells": [
  {
   "cell_type": "code",
   "execution_count": 1,
   "metadata": {},
   "outputs": [
    {
     "name": "stdout",
     "output_type": "stream",
     "text": [
      "<!DOCTYPE html> <html> <head> <script src='script.js'></script> <body doo hx_target='this'> <div> <img src='example.jpg'> <div> jasa\n"
     ]
    }
   ],
   "source": [
    "class Element:\n",
    "    self_closing_tags = {'img', 'input', 'br', 'hr', 'meta', 'link'}\n",
    "    always_closing_tags = {'script', 'style'}\n",
    "\n",
    "    def __init__(self, name) -> None:\n",
    "        self.name = name\n",
    "    \n",
    "    def __call__(self, *childs, args=[], **kwargs):\n",
    "        attrs = ' '.join(args + [f\"{key}='{val}'\" for key, val in kwargs.items()])\n",
    "        open_tag = f\"<{self.name}{' ' + attrs if attrs else ''}>\"\n",
    "        \n",
    "        if self.name in self.self_closing_tags:\n",
    "            return open_tag\n",
    "        \n",
    "        if not childs:\n",
    "            if self.name in self.always_closing_tags:\n",
    "                return f\"{open_tag}</{self.name}>\"\n",
    "            return open_tag\n",
    "        \n",
    "        content = ' '.join(str(child) for child in childs)\n",
    "        return f\"{open_tag} {content}\"\n",
    "\n",
    "class Html(Element):\n",
    "    def __init__(self):\n",
    "        super().__init__('html')\n",
    "\n",
    "    def __call__(self, *childs, args=[], **kwargs):\n",
    "        doctype = \"<!DOCTYPE html>\"\n",
    "        html_content = super().__call__(*childs, args=args, **kwargs)\n",
    "        return f\"{doctype} {html_content}\"\n",
    "\n",
    "# Example usage\n",
    "Html = Html()\n",
    "Head = Element(\"head\")\n",
    "Body = Element(\"body\")\n",
    "Div = Element(\"div\")\n",
    "Img = Element(\"img\")\n",
    "Script = Element(\"script\")\n",
    "\n",
    "print(Html(\n",
    "    Head(\n",
    "        Script(src=\"script.js\")\n",
    "    ),\n",
    "    Body(\n",
    "        Div(Img(src=\"example.jpg\"), Div(\"jasa\")),\n",
    "        args=[\"doo\"], hx_target=\"this\"\n",
    "    )\n",
    "))"
   ]
  }
 ],
 "metadata": {
  "kernelspec": {
   "display_name": "Python 3",
   "language": "python",
   "name": "python3"
  },
  "language_info": {
   "codemirror_mode": {
    "name": "ipython",
    "version": 3
   },
   "file_extension": ".py",
   "mimetype": "text/x-python",
   "name": "python",
   "nbconvert_exporter": "python",
   "pygments_lexer": "ipython3",
   "version": "3.12.3"
  }
 },
 "nbformat": 4,
 "nbformat_minor": 2
}
